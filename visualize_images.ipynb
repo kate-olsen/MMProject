{
 "cells": [
  {
   "cell_type": "markdown",
   "id": "dcbf6355",
   "metadata": {},
   "source": [
    "## Load IMC masks and hover over the cells to read their ID"
   ]
  },
  {
   "cell_type": "code",
   "execution_count": 1,
   "id": "b6b94c9a-c541-4c86-bbc3-7bf3e0b6e87a",
   "metadata": {
    "scrolled": true
   },
   "outputs": [],
   "source": [
    "import plotly.express as px\n",
    "import cv2"
   ]
  },
  {
   "cell_type": "code",
   "execution_count": 2,
   "id": "60982037-f1a8-49c7-bfce-bda214daef09",
   "metadata": {
    "scrolled": true
   },
   "outputs": [
    {
     "name": "stderr",
     "output_type": "stream",
     "text": [
      "[ WARN:0@9.666] global loadsave.cpp:248 findDecoder imread_('/Users/olsen/Desktop/IMC_Clustering/Mask_images/0B6E501_s0_p3_r7_a7_ac_3_7_Laser_0_ilastik_s2_Probabilities_mask.tiff'): can't open/read file: check file path/integrity\n"
     ]
    },
    {
     "ename": "TypeError",
     "evalue": "'NoneType' object is not subscriptable",
     "output_type": "error",
     "traceback": [
      "\u001b[0;31m---------------------------------------------------------------------------\u001b[0m",
      "\u001b[0;31mTypeError\u001b[0m                                 Traceback (most recent call last)",
      "\u001b[1;32m/Users/olsen/Desktop/MMProject/visualize_images.ipynb Cell 3\u001b[0m in \u001b[0;36m<module>\u001b[0;34m\u001b[0m\n\u001b[1;32m      <a href='vscode-notebook-cell:/Users/olsen/Desktop/MMProject/visualize_images.ipynb#W2sZmlsZQ%3D%3D?line=2'>3</a>\u001b[0m image_name \u001b[39m=\u001b[39m \u001b[39m\"\u001b[39m\u001b[39m/Users/olsen/Desktop/IMC_Clustering/Mask_images/0B6E501_s0_p3_r7_a7_ac_3_7_Laser_0_ilastik_s2_Probabilities_mask.tiff\u001b[39m\u001b[39m\"\u001b[39m\n\u001b[1;32m      <a href='vscode-notebook-cell:/Users/olsen/Desktop/MMProject/visualize_images.ipynb#W2sZmlsZQ%3D%3D?line=3'>4</a>\u001b[0m x \u001b[39m=\u001b[39m cv2\u001b[39m.\u001b[39mimread(image_name, \u001b[39m-\u001b[39m\u001b[39m1\u001b[39m)\n\u001b[0;32m----> <a href='vscode-notebook-cell:/Users/olsen/Desktop/MMProject/visualize_images.ipynb#W2sZmlsZQ%3D%3D?line=4'>5</a>\u001b[0m x[x \u001b[39m!=\u001b[39m \u001b[39m0\u001b[39m] \u001b[39m=\u001b[39m x[x \u001b[39m!=\u001b[39;49m \u001b[39m0\u001b[39;49m]\n\u001b[1;32m      <a href='vscode-notebook-cell:/Users/olsen/Desktop/MMProject/visualize_images.ipynb#W2sZmlsZQ%3D%3D?line=5'>6</a>\u001b[0m fig \u001b[39m=\u001b[39m px\u001b[39m.\u001b[39mimshow(x, width\u001b[39m=\u001b[39m\u001b[39m800\u001b[39m, height\u001b[39m=\u001b[39m\u001b[39m800\u001b[39m)\n\u001b[1;32m      <a href='vscode-notebook-cell:/Users/olsen/Desktop/MMProject/visualize_images.ipynb#W2sZmlsZQ%3D%3D?line=6'>7</a>\u001b[0m fig\u001b[39m.\u001b[39mshow()\n",
      "\u001b[0;31mTypeError\u001b[0m: 'NoneType' object is not subscriptable"
     ]
    }
   ],
   "source": [
    "#image_name = \"/Users/mohamedkamal/Documents/IMC/IMC_Masks_Data/0B6E501_s0_p3_r4_a4_ac_3_4_ilastik_s2_Probabilities_mask.tiff\"\n",
    "#image_name = \"/Users/olsen/Desktop/IMC_Clustering/Mask_images/0B6E501_s0_p3_r3_a3_ac_3_3_ilastik_s2_Probabilities_mask.tiff\"\n",
    "image_name = \"/Users/olsen/Desktop/AsciticFluidProject/0B6E501_s0_p3_r4_a4_ac_3_4_ilastik_s2_Probabilities_mask.tiff\"\n",
    "x = cv2.imread(image_name, -1)\n",
    "x[x != 0] = x[x != 0]\n",
    "fig = px.imshow(x, width=800, height=800)\n",
    "fig.show()"
   ]
  },
  {
   "cell_type": "code",
   "execution_count": null,
   "id": "058251ce",
   "metadata": {},
   "outputs": [],
   "source": []
  }
 ],
 "metadata": {
  "kernelspec": {
   "display_name": "Python 3 (ipykernel)",
   "language": "python",
   "name": "python3"
  },
  "language_info": {
   "codemirror_mode": {
    "name": "ipython",
    "version": 3
   },
   "file_extension": ".py",
   "mimetype": "text/x-python",
   "name": "python",
   "nbconvert_exporter": "python",
   "pygments_lexer": "ipython3",
   "version": "3.9.10"
  }
 },
 "nbformat": 4,
 "nbformat_minor": 5
}
